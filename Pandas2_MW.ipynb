{
 "cells": [
  {
   "cell_type": "markdown",
   "metadata": {},
   "source": [
    "# Pandas Cont..."
   ]
  },
  {
   "cell_type": "markdown",
   "metadata": {},
   "source": [
    "# Descriptive Statistics"
   ]
  },
  {
   "cell_type": "code",
   "execution_count": 7,
   "metadata": {},
   "outputs": [
    {
     "data": {
      "text/html": [
       "<div>\n",
       "<style scoped>\n",
       "    .dataframe tbody tr th:only-of-type {\n",
       "        vertical-align: middle;\n",
       "    }\n",
       "\n",
       "    .dataframe tbody tr th {\n",
       "        vertical-align: top;\n",
       "    }\n",
       "\n",
       "    .dataframe thead th {\n",
       "        text-align: right;\n",
       "    }\n",
       "</style>\n",
       "<table border=\"1\" class=\"dataframe\">\n",
       "  <thead>\n",
       "    <tr style=\"text-align: right;\">\n",
       "      <th></th>\n",
       "      <th>Name</th>\n",
       "      <th>Age</th>\n",
       "      <th>Rating</th>\n",
       "    </tr>\n",
       "  </thead>\n",
       "  <tbody>\n",
       "    <tr>\n",
       "      <th>0</th>\n",
       "      <td>Tom</td>\n",
       "      <td>25</td>\n",
       "      <td>4.23</td>\n",
       "    </tr>\n",
       "    <tr>\n",
       "      <th>1</th>\n",
       "      <td>James</td>\n",
       "      <td>26</td>\n",
       "      <td>3.24</td>\n",
       "    </tr>\n",
       "    <tr>\n",
       "      <th>2</th>\n",
       "      <td>Ricky</td>\n",
       "      <td>25</td>\n",
       "      <td>3.98</td>\n",
       "    </tr>\n",
       "    <tr>\n",
       "      <th>3</th>\n",
       "      <td>Vin</td>\n",
       "      <td>23</td>\n",
       "      <td>2.56</td>\n",
       "    </tr>\n",
       "    <tr>\n",
       "      <th>4</th>\n",
       "      <td>Steve</td>\n",
       "      <td>30</td>\n",
       "      <td>3.20</td>\n",
       "    </tr>\n",
       "    <tr>\n",
       "      <th>5</th>\n",
       "      <td>Smith</td>\n",
       "      <td>29</td>\n",
       "      <td>4.60</td>\n",
       "    </tr>\n",
       "    <tr>\n",
       "      <th>6</th>\n",
       "      <td>Jack</td>\n",
       "      <td>23</td>\n",
       "      <td>3.80</td>\n",
       "    </tr>\n",
       "    <tr>\n",
       "      <th>7</th>\n",
       "      <td>Lee</td>\n",
       "      <td>34</td>\n",
       "      <td>3.78</td>\n",
       "    </tr>\n",
       "    <tr>\n",
       "      <th>8</th>\n",
       "      <td>David</td>\n",
       "      <td>40</td>\n",
       "      <td>2.98</td>\n",
       "    </tr>\n",
       "    <tr>\n",
       "      <th>9</th>\n",
       "      <td>Gasper</td>\n",
       "      <td>30</td>\n",
       "      <td>4.80</td>\n",
       "    </tr>\n",
       "    <tr>\n",
       "      <th>10</th>\n",
       "      <td>Betina</td>\n",
       "      <td>51</td>\n",
       "      <td>4.10</td>\n",
       "    </tr>\n",
       "    <tr>\n",
       "      <th>11</th>\n",
       "      <td>Andres</td>\n",
       "      <td>46</td>\n",
       "      <td>3.65</td>\n",
       "    </tr>\n",
       "  </tbody>\n",
       "</table>\n",
       "</div>"
      ],
      "text/plain": [
       "      Name  Age  Rating\n",
       "0      Tom   25    4.23\n",
       "1    James   26    3.24\n",
       "2    Ricky   25    3.98\n",
       "3      Vin   23    2.56\n",
       "4    Steve   30    3.20\n",
       "5    Smith   29    4.60\n",
       "6     Jack   23    3.80\n",
       "7      Lee   34    3.78\n",
       "8    David   40    2.98\n",
       "9   Gasper   30    4.80\n",
       "10  Betina   51    4.10\n",
       "11  Andres   46    3.65"
      ]
     },
     "execution_count": 7,
     "metadata": {},
     "output_type": "execute_result"
    }
   ],
   "source": [
    "import pandas as pd\n",
    "import numpy as np\n",
    "\n",
    "#Create a Dictionary of series\n",
    "d = {'Name':pd.Series(['Tom','James','Ricky','Vin','Steve','Smith','Jack',\n",
    "   'Lee','David','Gasper','Betina','Andres']),\n",
    "   'Age':pd.Series([25,26,25,23,30,29,23,34,40,30,51,46]),\n",
    "   'Rating':pd.Series([4.23,3.24,3.98,2.56,3.20,4.6,3.8,3.78,2.98,4.80,4.10,3.65])\n",
    "}\n",
    "\n",
    "#Create a DataFrame\n",
    "df = pd.DataFrame(d)\n",
    "df"
   ]
  },
  {
   "cell_type": "markdown",
   "metadata": {},
   "source": [
    "# sum()\n",
    "Returns the sum of the values for the requested axis. By default, axis is index (axis=0).\n",
    "Syntax \n",
    "--------- \n",
    "df.sum(axis=None, skipna=None, level=None, numeric_only=None, min_count=0, **kwargs)"
   ]
  },
  {
   "cell_type": "code",
   "execution_count": 5,
   "metadata": {},
   "outputs": [
    {
     "data": {
      "text/plain": [
       "Name      TomJamesRickyVinSteveSmithJackLeeDavidGasperBe...\n",
       "Age                                                     382\n",
       "Rating                                                44.92\n",
       "dtype: object"
      ]
     },
     "execution_count": 5,
     "metadata": {},
     "output_type": "execute_result"
    }
   ],
   "source": [
    "df.sum()"
   ]
  },
  {
   "cell_type": "code",
   "execution_count": 8,
   "metadata": {},
   "outputs": [
    {
     "data": {
      "text/plain": [
       "0     29.23\n",
       "1     29.24\n",
       "2     28.98\n",
       "3     25.56\n",
       "4     33.20\n",
       "5     33.60\n",
       "6     26.80\n",
       "7     37.78\n",
       "8     42.98\n",
       "9     34.80\n",
       "10    55.10\n",
       "11    49.65\n",
       "dtype: float64"
      ]
     },
     "execution_count": 8,
     "metadata": {},
     "output_type": "execute_result"
    }
   ],
   "source": [
    "#Sum of Rows\n",
    "df.sum(axis=1)"
   ]
  },
  {
   "cell_type": "markdown",
   "metadata": {},
   "source": [
    "# mean()\n",
    "Returns the average value\n",
    "Syntax\n",
    "======\n",
    "\n",
    " df.mean(axis=None, skipna=None, level=None, numeric_only=None, **kwargs)"
   ]
  },
  {
   "cell_type": "code",
   "execution_count": 9,
   "metadata": {},
   "outputs": [
    {
     "data": {
      "text/plain": [
       "Age       31.833333\n",
       "Rating     3.743333\n",
       "dtype: float64"
      ]
     },
     "execution_count": 9,
     "metadata": {},
     "output_type": "execute_result"
    }
   ],
   "source": [
    "#Columns Mean value\n",
    "df.mean()"
   ]
  },
  {
   "cell_type": "code",
   "execution_count": 11,
   "metadata": {},
   "outputs": [
    {
     "data": {
      "text/plain": [
       "0     14.615\n",
       "1     14.620\n",
       "2     14.490\n",
       "3     12.780\n",
       "4     16.600\n",
       "5     16.800\n",
       "6     13.400\n",
       "7     18.890\n",
       "8     21.490\n",
       "9     17.400\n",
       "10    27.550\n",
       "11    24.825\n",
       "dtype: float64"
      ]
     },
     "execution_count": 11,
     "metadata": {},
     "output_type": "execute_result"
    }
   ],
   "source": [
    "#Rows Mean Value\n",
    "df.mean(1)"
   ]
  },
  {
   "cell_type": "markdown",
   "metadata": {},
   "source": [
    "# std()\n",
    "Returns the Bressel standard deviation of the numerical columns.\n",
    "\n",
    "Syntax\n",
    "======\n",
    "\n",
    "df.std(axis=None, skipna=None, level=None, ddof=1, numeric_only=None, **kwargs)\n"
   ]
  },
  {
   "cell_type": "code",
   "execution_count": 13,
   "metadata": {},
   "outputs": [
    {
     "data": {
      "text/plain": [
       "Age       9.232682\n",
       "Rating    0.661628\n",
       "dtype: float64"
      ]
     },
     "execution_count": 13,
     "metadata": {},
     "output_type": "execute_result"
    }
   ],
   "source": [
    "#Columns Standard Deviation\n",
    "df.std()"
   ]
  },
  {
   "cell_type": "code",
   "execution_count": 15,
   "metadata": {},
   "outputs": [
    {
     "data": {
      "text/plain": [
       "0     14.686608\n",
       "1     16.093750\n",
       "2     14.863385\n",
       "3     14.453263\n",
       "4     18.950462\n",
       "5     17.253405\n",
       "6     13.576450\n",
       "7     21.368767\n",
       "8     26.177093\n",
       "9     17.819091\n",
       "10    33.163308\n",
       "11    29.945972\n",
       "dtype: float64"
      ]
     },
     "execution_count": 15,
     "metadata": {},
     "output_type": "execute_result"
    }
   ],
   "source": [
    "#Rows Standard Deviation\n",
    "df.std(1)"
   ]
  },
  {
   "cell_type": "code",
   "execution_count": null,
   "metadata": {},
   "outputs": [],
   "source": [
    "# Sr.No.\tFunction\tDescription\n",
    "#1\tcount()\tNumber of non-null observations\n",
    "#2\tsum()\tSum of values\n",
    "#3\tmean()\tMean of Values\n",
    "#4\tmedian()\tMedian of Values\n",
    "#5\tmode()\tMode of values\n",
    "#6\tstd()\tStandard Deviation of the Values\n",
    "#7\tmin()\tMinimum Value\n",
    "#8\tmax()\tMaximum Value\n",
    "#9\tabs()\tAbsolute Value\n",
    "#10\tprod()\tProduct of Values\n",
    "#11\tcumsum()\tCumulative Sum\n",
    "#12\tcumprod()\tCumulative Product"
   ]
  },
  {
   "cell_type": "markdown",
   "metadata": {},
   "source": [
    "# Summarizing Data\n",
    "The describe() function computes a summary of statistics pertaining to the DataFrame columns.\n",
    "\n",
    "Syntax\n",
    "------\n",
    "df.describe(percentiles=None, include=None, exclude=None)\n",
    "\n",
    "percentiles : \n",
    "----------\n",
    "list-like of numbers, optional\n",
    "    The percentiles to include in the output. All should\n",
    "    fall between 0 and 1. The default is\n",
    "    ``[.25, .5, .75]``, which returns the 25th, 50th, and\n",
    "    75th percentiles.\n",
    "    \n",
    "include :\n",
    "--------\n",
    "'all', list-like of dtypes or None (default), optional\n",
    "    A white list of data types to include in the result. Ignored\n",
    "    for ``Series``. Here are the options:\n",
    "\n",
    "    - 'all' : All columns of the input will be included in the output.\n",
    "    - A list-like of dtypes : Limits the results to the\n",
    "      provided data types.\n",
    "      To limit the result to numeric types submit\n",
    "      ``numpy.number``. To limit it instead to object columns submit\n",
    "      the ``numpy.object`` data type. Strings\n",
    "      can also be used in the style of\n",
    "      ``select_dtypes`` (e.g. ``df.describe(include=['O'])``). To\n",
    "      select pandas categorical columns, use ``'category'``\n",
    "    - None (default) : The result will include all numeric columns.\n",
    "exclude :\n",
    "--------\n",
    "    list-like of dtypes or None (default), optional,\n",
    "    A black list of data types to omit from the result. Ignored\n",
    "    for ``Series``. Here are the options:\n",
    "\n",
    "    - A list-like of dtypes : Excludes the provided data types\n",
    "      from the result. To exclude numeric types submit\n",
    "      ``numpy.number``. To exclude object columns submit the data\n",
    "      type ``numpy.object``. Strings can also be used in the style of\n",
    "      ``select_dtypes`` (e.g. ``df.describe(include=['O'])``). To\n",
    "      exclude pandas categorical columns, use ``'category'``\n",
    "    - None (default) : The result will exclude nothing.\n",
    "\n",
    "Returns\n",
    "-------\n",
    "summary:  Series/DataFrame of summary statistics\n",
    "\n"
   ]
  },
  {
   "cell_type": "code",
   "execution_count": 18,
   "metadata": {},
   "outputs": [
    {
     "data": {
      "text/html": [
       "<div>\n",
       "<style scoped>\n",
       "    .dataframe tbody tr th:only-of-type {\n",
       "        vertical-align: middle;\n",
       "    }\n",
       "\n",
       "    .dataframe tbody tr th {\n",
       "        vertical-align: top;\n",
       "    }\n",
       "\n",
       "    .dataframe thead th {\n",
       "        text-align: right;\n",
       "    }\n",
       "</style>\n",
       "<table border=\"1\" class=\"dataframe\">\n",
       "  <thead>\n",
       "    <tr style=\"text-align: right;\">\n",
       "      <th></th>\n",
       "      <th>Age</th>\n",
       "      <th>Rating</th>\n",
       "    </tr>\n",
       "  </thead>\n",
       "  <tbody>\n",
       "    <tr>\n",
       "      <th>count</th>\n",
       "      <td>12.000000</td>\n",
       "      <td>12.000000</td>\n",
       "    </tr>\n",
       "    <tr>\n",
       "      <th>mean</th>\n",
       "      <td>31.833333</td>\n",
       "      <td>3.743333</td>\n",
       "    </tr>\n",
       "    <tr>\n",
       "      <th>std</th>\n",
       "      <td>9.232682</td>\n",
       "      <td>0.661628</td>\n",
       "    </tr>\n",
       "    <tr>\n",
       "      <th>min</th>\n",
       "      <td>23.000000</td>\n",
       "      <td>2.560000</td>\n",
       "    </tr>\n",
       "    <tr>\n",
       "      <th>25%</th>\n",
       "      <td>25.000000</td>\n",
       "      <td>3.230000</td>\n",
       "    </tr>\n",
       "    <tr>\n",
       "      <th>50%</th>\n",
       "      <td>29.500000</td>\n",
       "      <td>3.790000</td>\n",
       "    </tr>\n",
       "    <tr>\n",
       "      <th>75%</th>\n",
       "      <td>35.500000</td>\n",
       "      <td>4.132500</td>\n",
       "    </tr>\n",
       "    <tr>\n",
       "      <th>max</th>\n",
       "      <td>51.000000</td>\n",
       "      <td>4.800000</td>\n",
       "    </tr>\n",
       "  </tbody>\n",
       "</table>\n",
       "</div>"
      ],
      "text/plain": [
       "             Age     Rating\n",
       "count  12.000000  12.000000\n",
       "mean   31.833333   3.743333\n",
       "std     9.232682   0.661628\n",
       "min    23.000000   2.560000\n",
       "25%    25.000000   3.230000\n",
       "50%    29.500000   3.790000\n",
       "75%    35.500000   4.132500\n",
       "max    51.000000   4.800000"
      ]
     },
     "execution_count": 18,
     "metadata": {},
     "output_type": "execute_result"
    }
   ],
   "source": [
    "df.describe()"
   ]
  },
  {
   "cell_type": "code",
   "execution_count": 20,
   "metadata": {},
   "outputs": [
    {
     "data": {
      "text/html": [
       "<div>\n",
       "<style scoped>\n",
       "    .dataframe tbody tr th:only-of-type {\n",
       "        vertical-align: middle;\n",
       "    }\n",
       "\n",
       "    .dataframe tbody tr th {\n",
       "        vertical-align: top;\n",
       "    }\n",
       "\n",
       "    .dataframe thead th {\n",
       "        text-align: right;\n",
       "    }\n",
       "</style>\n",
       "<table border=\"1\" class=\"dataframe\">\n",
       "  <thead>\n",
       "    <tr style=\"text-align: right;\">\n",
       "      <th></th>\n",
       "      <th>Name</th>\n",
       "    </tr>\n",
       "  </thead>\n",
       "  <tbody>\n",
       "    <tr>\n",
       "      <th>count</th>\n",
       "      <td>12</td>\n",
       "    </tr>\n",
       "    <tr>\n",
       "      <th>unique</th>\n",
       "      <td>12</td>\n",
       "    </tr>\n",
       "    <tr>\n",
       "      <th>top</th>\n",
       "      <td>Jack</td>\n",
       "    </tr>\n",
       "    <tr>\n",
       "      <th>freq</th>\n",
       "      <td>1</td>\n",
       "    </tr>\n",
       "  </tbody>\n",
       "</table>\n",
       "</div>"
      ],
      "text/plain": [
       "        Name\n",
       "count     12\n",
       "unique    12\n",
       "top     Jack\n",
       "freq       1"
      ]
     },
     "execution_count": 20,
     "metadata": {},
     "output_type": "execute_result"
    }
   ],
   "source": [
    "df.describe(include=[object])"
   ]
  },
  {
   "cell_type": "code",
   "execution_count": 24,
   "metadata": {},
   "outputs": [
    {
     "data": {
      "text/html": [
       "<div>\n",
       "<style scoped>\n",
       "    .dataframe tbody tr th:only-of-type {\n",
       "        vertical-align: middle;\n",
       "    }\n",
       "\n",
       "    .dataframe tbody tr th {\n",
       "        vertical-align: top;\n",
       "    }\n",
       "\n",
       "    .dataframe thead th {\n",
       "        text-align: right;\n",
       "    }\n",
       "</style>\n",
       "<table border=\"1\" class=\"dataframe\">\n",
       "  <thead>\n",
       "    <tr style=\"text-align: right;\">\n",
       "      <th></th>\n",
       "      <th>Name</th>\n",
       "      <th>Age</th>\n",
       "      <th>Rating</th>\n",
       "    </tr>\n",
       "  </thead>\n",
       "  <tbody>\n",
       "    <tr>\n",
       "      <th>count</th>\n",
       "      <td>12</td>\n",
       "      <td>12.000000</td>\n",
       "      <td>12.000000</td>\n",
       "    </tr>\n",
       "    <tr>\n",
       "      <th>unique</th>\n",
       "      <td>12</td>\n",
       "      <td>NaN</td>\n",
       "      <td>NaN</td>\n",
       "    </tr>\n",
       "    <tr>\n",
       "      <th>top</th>\n",
       "      <td>Jack</td>\n",
       "      <td>NaN</td>\n",
       "      <td>NaN</td>\n",
       "    </tr>\n",
       "    <tr>\n",
       "      <th>freq</th>\n",
       "      <td>1</td>\n",
       "      <td>NaN</td>\n",
       "      <td>NaN</td>\n",
       "    </tr>\n",
       "    <tr>\n",
       "      <th>mean</th>\n",
       "      <td>NaN</td>\n",
       "      <td>31.833333</td>\n",
       "      <td>3.743333</td>\n",
       "    </tr>\n",
       "    <tr>\n",
       "      <th>std</th>\n",
       "      <td>NaN</td>\n",
       "      <td>9.232682</td>\n",
       "      <td>0.661628</td>\n",
       "    </tr>\n",
       "    <tr>\n",
       "      <th>min</th>\n",
       "      <td>NaN</td>\n",
       "      <td>23.000000</td>\n",
       "      <td>2.560000</td>\n",
       "    </tr>\n",
       "    <tr>\n",
       "      <th>25%</th>\n",
       "      <td>NaN</td>\n",
       "      <td>25.000000</td>\n",
       "      <td>3.230000</td>\n",
       "    </tr>\n",
       "    <tr>\n",
       "      <th>50%</th>\n",
       "      <td>NaN</td>\n",
       "      <td>29.500000</td>\n",
       "      <td>3.790000</td>\n",
       "    </tr>\n",
       "    <tr>\n",
       "      <th>75%</th>\n",
       "      <td>NaN</td>\n",
       "      <td>35.500000</td>\n",
       "      <td>4.132500</td>\n",
       "    </tr>\n",
       "    <tr>\n",
       "      <th>max</th>\n",
       "      <td>NaN</td>\n",
       "      <td>51.000000</td>\n",
       "      <td>4.800000</td>\n",
       "    </tr>\n",
       "  </tbody>\n",
       "</table>\n",
       "</div>"
      ],
      "text/plain": [
       "        Name        Age     Rating\n",
       "count     12  12.000000  12.000000\n",
       "unique    12        NaN        NaN\n",
       "top     Jack        NaN        NaN\n",
       "freq       1        NaN        NaN\n",
       "mean     NaN  31.833333   3.743333\n",
       "std      NaN   9.232682   0.661628\n",
       "min      NaN  23.000000   2.560000\n",
       "25%      NaN  25.000000   3.230000\n",
       "50%      NaN  29.500000   3.790000\n",
       "75%      NaN  35.500000   4.132500\n",
       "max      NaN  51.000000   4.800000"
      ]
     },
     "execution_count": 24,
     "metadata": {},
     "output_type": "execute_result"
    }
   ],
   "source": [
    "df.describe(include='all')"
   ]
  },
  {
   "cell_type": "markdown",
   "metadata": {},
   "source": [
    "# Iterating a DataFrame\n",
    "Iterating a DataFrame gives column names. Let us consider the following example to understand the same.\n",
    "\n",
    "To iterate over the rows of the DataFrame, we can use the following functions −\n",
    "\n",
    "    iteritems() − to iterate over the (key,value) pairs\n",
    "\n",
    "    iterrows() − iterate over the rows as (index,series) pairs\n",
    "\n",
    "    itertuples() − iterate over the rows as namedtuples\n",
    "\n"
   ]
  },
  {
   "cell_type": "code",
   "execution_count": 26,
   "metadata": {},
   "outputs": [
    {
     "name": "stdout",
     "output_type": "stream",
     "text": [
      "Name 0        Tom\n",
      "1      James\n",
      "2      Ricky\n",
      "3        Vin\n",
      "4      Steve\n",
      "5      Smith\n",
      "6       Jack\n",
      "7        Lee\n",
      "8      David\n",
      "9     Gasper\n",
      "10    Betina\n",
      "11    Andres\n",
      "Name: Name, dtype: object\n",
      "Age 0     25\n",
      "1     26\n",
      "2     25\n",
      "3     23\n",
      "4     30\n",
      "5     29\n",
      "6     23\n",
      "7     34\n",
      "8     40\n",
      "9     30\n",
      "10    51\n",
      "11    46\n",
      "Name: Age, dtype: int64\n",
      "Rating 0     4.23\n",
      "1     3.24\n",
      "2     3.98\n",
      "3     2.56\n",
      "4     3.20\n",
      "5     4.60\n",
      "6     3.80\n",
      "7     3.78\n",
      "8     2.98\n",
      "9     4.80\n",
      "10    4.10\n",
      "11    3.65\n",
      "Name: Rating, dtype: float64\n"
     ]
    }
   ],
   "source": [
    "#iteritems()\n",
    "#Iterates over each column as key, value pair with label as key and column value as a Series object.\n",
    "for key,value in df.iteritems():\n",
    "   print(key,value)"
   ]
  },
  {
   "cell_type": "code",
   "execution_count": 27,
   "metadata": {},
   "outputs": [
    {
     "name": "stdout",
     "output_type": "stream",
     "text": [
      "0 Name       Tom\n",
      "Age         25\n",
      "Rating    4.23\n",
      "Name: 0, dtype: object\n",
      "1 Name      James\n",
      "Age          26\n",
      "Rating     3.24\n",
      "Name: 1, dtype: object\n",
      "2 Name      Ricky\n",
      "Age          25\n",
      "Rating     3.98\n",
      "Name: 2, dtype: object\n",
      "3 Name       Vin\n",
      "Age         23\n",
      "Rating    2.56\n",
      "Name: 3, dtype: object\n",
      "4 Name      Steve\n",
      "Age          30\n",
      "Rating      3.2\n",
      "Name: 4, dtype: object\n",
      "5 Name      Smith\n",
      "Age          29\n",
      "Rating      4.6\n",
      "Name: 5, dtype: object\n",
      "6 Name      Jack\n",
      "Age         23\n",
      "Rating     3.8\n",
      "Name: 6, dtype: object\n",
      "7 Name       Lee\n",
      "Age         34\n",
      "Rating    3.78\n",
      "Name: 7, dtype: object\n",
      "8 Name      David\n",
      "Age          40\n",
      "Rating     2.98\n",
      "Name: 8, dtype: object\n",
      "9 Name      Gasper\n",
      "Age           30\n",
      "Rating       4.8\n",
      "Name: 9, dtype: object\n",
      "10 Name      Betina\n",
      "Age           51\n",
      "Rating       4.1\n",
      "Name: 10, dtype: object\n",
      "11 Name      Andres\n",
      "Age           46\n",
      "Rating      3.65\n",
      "Name: 11, dtype: object\n"
     ]
    }
   ],
   "source": [
    "#iterrows()\n",
    "#it returns the iterator yielding each index value along with a series containing the data in each row.\n",
    "for row_index,row in df.iterrows():\n",
    "   print(row_index,row)"
   ]
  },
  {
   "cell_type": "code",
   "execution_count": 28,
   "metadata": {},
   "outputs": [
    {
     "name": "stdout",
     "output_type": "stream",
     "text": [
      "Pandas(Index=0, Name='Tom', Age=25, Rating=4.23)\n",
      "Pandas(Index=1, Name='James', Age=26, Rating=3.24)\n",
      "Pandas(Index=2, Name='Ricky', Age=25, Rating=3.98)\n",
      "Pandas(Index=3, Name='Vin', Age=23, Rating=2.56)\n",
      "Pandas(Index=4, Name='Steve', Age=30, Rating=3.2)\n",
      "Pandas(Index=5, Name='Smith', Age=29, Rating=4.6)\n",
      "Pandas(Index=6, Name='Jack', Age=23, Rating=3.8)\n",
      "Pandas(Index=7, Name='Lee', Age=34, Rating=3.78)\n",
      "Pandas(Index=8, Name='David', Age=40, Rating=2.98)\n",
      "Pandas(Index=9, Name='Gasper', Age=30, Rating=4.8)\n",
      "Pandas(Index=10, Name='Betina', Age=51, Rating=4.1)\n",
      "Pandas(Index=11, Name='Andres', Age=46, Rating=3.65)\n"
     ]
    }
   ],
   "source": [
    "#itertuples() \n",
    "#This method will return an iterator yielding a named tuple for each row in the DataFrame. \n",
    "#The first element of the tuple will be the row’s corresponding index value, while the remaining values are the row values.\n",
    "for row in df.itertuples():\n",
    "    print(row)\n"
   ]
  },
  {
   "cell_type": "markdown",
   "metadata": {},
   "source": [
    "# Percent_change\n",
    "\n",
    "Series, DatFrames and Panel, all have the function pct_change(). This function compares every element with its prior element and computes the change percentage."
   ]
  },
  {
   "cell_type": "code",
   "execution_count": 30,
   "metadata": {},
   "outputs": [
    {
     "data": {
      "text/plain": [
       "0         NaN\n",
       "1    1.000000\n",
       "2    0.500000\n",
       "3    0.333333\n",
       "4    0.250000\n",
       "5   -0.200000\n",
       "dtype: float64"
      ]
     },
     "execution_count": 30,
     "metadata": {},
     "output_type": "execute_result"
    }
   ],
   "source": [
    "#Series Percent_change\n",
    "s = pd.Series([1,2,3,4,5,4])\n",
    "s.pct_change()"
   ]
  },
  {
   "cell_type": "code",
   "execution_count": 32,
   "metadata": {},
   "outputs": [
    {
     "data": {
      "text/html": [
       "<div>\n",
       "<style scoped>\n",
       "    .dataframe tbody tr th:only-of-type {\n",
       "        vertical-align: middle;\n",
       "    }\n",
       "\n",
       "    .dataframe tbody tr th {\n",
       "        vertical-align: top;\n",
       "    }\n",
       "\n",
       "    .dataframe thead th {\n",
       "        text-align: right;\n",
       "    }\n",
       "</style>\n",
       "<table border=\"1\" class=\"dataframe\">\n",
       "  <thead>\n",
       "    <tr style=\"text-align: right;\">\n",
       "      <th></th>\n",
       "      <th>0</th>\n",
       "      <th>1</th>\n",
       "    </tr>\n",
       "  </thead>\n",
       "  <tbody>\n",
       "    <tr>\n",
       "      <th>0</th>\n",
       "      <td>NaN</td>\n",
       "      <td>NaN</td>\n",
       "    </tr>\n",
       "    <tr>\n",
       "      <th>1</th>\n",
       "      <td>-1.242789</td>\n",
       "      <td>-1.520785</td>\n",
       "    </tr>\n",
       "    <tr>\n",
       "      <th>2</th>\n",
       "      <td>-4.816129</td>\n",
       "      <td>17.267569</td>\n",
       "    </tr>\n",
       "    <tr>\n",
       "      <th>3</th>\n",
       "      <td>-2.326080</td>\n",
       "      <td>-0.878980</td>\n",
       "    </tr>\n",
       "    <tr>\n",
       "      <th>4</th>\n",
       "      <td>-1.233136</td>\n",
       "      <td>-6.987424</td>\n",
       "    </tr>\n",
       "  </tbody>\n",
       "</table>\n",
       "</div>"
      ],
      "text/plain": [
       "          0          1\n",
       "0       NaN        NaN\n",
       "1 -1.242789  -1.520785\n",
       "2 -4.816129  17.267569\n",
       "3 -2.326080  -0.878980\n",
       "4 -1.233136  -6.987424"
      ]
     },
     "execution_count": 32,
     "metadata": {},
     "output_type": "execute_result"
    }
   ],
   "source": [
    "#DataFrame Percent_change\n",
    "df = pd.DataFrame(np.random.randn(5, 2))\n",
    "df.pct_change()"
   ]
  },
  {
   "cell_type": "markdown",
   "metadata": {},
   "source": [
    "# Covariance\n",
    "Covariance is applied on series data. The Series object has a method cov to compute covariance between series objects. NA will be excluded automatically."
   ]
  },
  {
   "cell_type": "code",
   "execution_count": 33,
   "metadata": {},
   "outputs": [
    {
     "data": {
      "text/plain": [
       "0.3429010241704238"
      ]
     },
     "execution_count": 33,
     "metadata": {},
     "output_type": "execute_result"
    }
   ],
   "source": [
    "#Covariance on Series\n",
    "s1 = pd.Series(np.random.randn(10))\n",
    "s2 = pd.Series(np.random.randn(10))\n",
    "s1.cov(s2)"
   ]
  },
  {
   "cell_type": "code",
   "execution_count": 36,
   "metadata": {},
   "outputs": [
    {
     "data": {
      "text/plain": [
       "0.25026234634672384"
      ]
     },
     "execution_count": 36,
     "metadata": {},
     "output_type": "execute_result"
    }
   ],
   "source": [
    "#Covariance on DataFrame\n",
    "frame = pd.DataFrame(np.random.randn(10, 5), columns=['a', 'b', 'c', 'd', 'e'])\n",
    "#Covariance on two columns\n",
    "frame['a'].cov(frame['b'])"
   ]
  },
  {
   "cell_type": "code",
   "execution_count": 38,
   "metadata": {},
   "outputs": [
    {
     "data": {
      "text/html": [
       "<div>\n",
       "<style scoped>\n",
       "    .dataframe tbody tr th:only-of-type {\n",
       "        vertical-align: middle;\n",
       "    }\n",
       "\n",
       "    .dataframe tbody tr th {\n",
       "        vertical-align: top;\n",
       "    }\n",
       "\n",
       "    .dataframe thead th {\n",
       "        text-align: right;\n",
       "    }\n",
       "</style>\n",
       "<table border=\"1\" class=\"dataframe\">\n",
       "  <thead>\n",
       "    <tr style=\"text-align: right;\">\n",
       "      <th></th>\n",
       "      <th>a</th>\n",
       "      <th>b</th>\n",
       "      <th>c</th>\n",
       "      <th>d</th>\n",
       "      <th>e</th>\n",
       "    </tr>\n",
       "  </thead>\n",
       "  <tbody>\n",
       "    <tr>\n",
       "      <th>a</th>\n",
       "      <td>0.822972</td>\n",
       "      <td>0.250262</td>\n",
       "      <td>-0.111752</td>\n",
       "      <td>-0.118694</td>\n",
       "      <td>-0.421002</td>\n",
       "    </tr>\n",
       "    <tr>\n",
       "      <th>b</th>\n",
       "      <td>0.250262</td>\n",
       "      <td>1.095099</td>\n",
       "      <td>-0.082299</td>\n",
       "      <td>-0.142705</td>\n",
       "      <td>0.061940</td>\n",
       "    </tr>\n",
       "    <tr>\n",
       "      <th>c</th>\n",
       "      <td>-0.111752</td>\n",
       "      <td>-0.082299</td>\n",
       "      <td>1.661717</td>\n",
       "      <td>-0.582318</td>\n",
       "      <td>-0.257662</td>\n",
       "    </tr>\n",
       "    <tr>\n",
       "      <th>d</th>\n",
       "      <td>-0.118694</td>\n",
       "      <td>-0.142705</td>\n",
       "      <td>-0.582318</td>\n",
       "      <td>0.602854</td>\n",
       "      <td>0.437287</td>\n",
       "    </tr>\n",
       "    <tr>\n",
       "      <th>e</th>\n",
       "      <td>-0.421002</td>\n",
       "      <td>0.061940</td>\n",
       "      <td>-0.257662</td>\n",
       "      <td>0.437287</td>\n",
       "      <td>1.431943</td>\n",
       "    </tr>\n",
       "  </tbody>\n",
       "</table>\n",
       "</div>"
      ],
      "text/plain": [
       "          a         b         c         d         e\n",
       "a  0.822972  0.250262 -0.111752 -0.118694 -0.421002\n",
       "b  0.250262  1.095099 -0.082299 -0.142705  0.061940\n",
       "c -0.111752 -0.082299  1.661717 -0.582318 -0.257662\n",
       "d -0.118694 -0.142705 -0.582318  0.602854  0.437287\n",
       "e -0.421002  0.061940 -0.257662  0.437287  1.431943"
      ]
     },
     "execution_count": 38,
     "metadata": {},
     "output_type": "execute_result"
    }
   ],
   "source": [
    "#Covariance on Entire DataFrame\n",
    "frame.cov()"
   ]
  },
  {
   "cell_type": "markdown",
   "metadata": {},
   "source": [
    "# Correlation\n",
    "Correlation shows the linear relationship between any two array of values (series). There are multiple methods to compute the correlation like pearson(default), spearman and kendall."
   ]
  },
  {
   "cell_type": "code",
   "execution_count": 39,
   "metadata": {},
   "outputs": [
    {
     "data": {
      "text/plain": [
       "-0.3911914153807798"
      ]
     },
     "execution_count": 39,
     "metadata": {},
     "output_type": "execute_result"
    }
   ],
   "source": [
    "#Correlation between the values\n",
    "frame = pd.DataFrame(np.random.randn(10, 5), columns=['a', 'b', 'c', 'd', 'e'])\n",
    "#Correlation between the two columns\n",
    "frame['a'].corr(frame['b'])"
   ]
  },
  {
   "cell_type": "code",
   "execution_count": 41,
   "metadata": {},
   "outputs": [
    {
     "data": {
      "text/html": [
       "<div>\n",
       "<style scoped>\n",
       "    .dataframe tbody tr th:only-of-type {\n",
       "        vertical-align: middle;\n",
       "    }\n",
       "\n",
       "    .dataframe tbody tr th {\n",
       "        vertical-align: top;\n",
       "    }\n",
       "\n",
       "    .dataframe thead th {\n",
       "        text-align: right;\n",
       "    }\n",
       "</style>\n",
       "<table border=\"1\" class=\"dataframe\">\n",
       "  <thead>\n",
       "    <tr style=\"text-align: right;\">\n",
       "      <th></th>\n",
       "      <th>a</th>\n",
       "      <th>b</th>\n",
       "      <th>c</th>\n",
       "      <th>d</th>\n",
       "      <th>e</th>\n",
       "    </tr>\n",
       "  </thead>\n",
       "  <tbody>\n",
       "    <tr>\n",
       "      <th>a</th>\n",
       "      <td>1.000000</td>\n",
       "      <td>-0.391191</td>\n",
       "      <td>0.106634</td>\n",
       "      <td>-0.130439</td>\n",
       "      <td>-0.143895</td>\n",
       "    </tr>\n",
       "    <tr>\n",
       "      <th>b</th>\n",
       "      <td>-0.391191</td>\n",
       "      <td>1.000000</td>\n",
       "      <td>0.318194</td>\n",
       "      <td>-0.328414</td>\n",
       "      <td>-0.268678</td>\n",
       "    </tr>\n",
       "    <tr>\n",
       "      <th>c</th>\n",
       "      <td>0.106634</td>\n",
       "      <td>0.318194</td>\n",
       "      <td>1.000000</td>\n",
       "      <td>-0.310535</td>\n",
       "      <td>-0.153756</td>\n",
       "    </tr>\n",
       "    <tr>\n",
       "      <th>d</th>\n",
       "      <td>-0.130439</td>\n",
       "      <td>-0.328414</td>\n",
       "      <td>-0.310535</td>\n",
       "      <td>1.000000</td>\n",
       "      <td>-0.250453</td>\n",
       "    </tr>\n",
       "    <tr>\n",
       "      <th>e</th>\n",
       "      <td>-0.143895</td>\n",
       "      <td>-0.268678</td>\n",
       "      <td>-0.153756</td>\n",
       "      <td>-0.250453</td>\n",
       "      <td>1.000000</td>\n",
       "    </tr>\n",
       "  </tbody>\n",
       "</table>\n",
       "</div>"
      ],
      "text/plain": [
       "          a         b         c         d         e\n",
       "a  1.000000 -0.391191  0.106634 -0.130439 -0.143895\n",
       "b -0.391191  1.000000  0.318194 -0.328414 -0.268678\n",
       "c  0.106634  0.318194  1.000000 -0.310535 -0.153756\n",
       "d -0.130439 -0.328414 -0.310535  1.000000 -0.250453\n",
       "e -0.143895 -0.268678 -0.153756 -0.250453  1.000000"
      ]
     },
     "execution_count": 41,
     "metadata": {},
     "output_type": "execute_result"
    }
   ],
   "source": [
    "#Correlation between Entire DataFrame\n",
    "frame.corr()"
   ]
  },
  {
   "cell_type": "code",
   "execution_count": null,
   "metadata": {},
   "outputs": [],
   "source": []
  }
 ],
 "metadata": {
  "kernelspec": {
   "display_name": "Python 3",
   "language": "python",
   "name": "python3"
  },
  "language_info": {
   "codemirror_mode": {
    "name": "ipython",
    "version": 3
   },
   "file_extension": ".py",
   "mimetype": "text/x-python",
   "name": "python",
   "nbconvert_exporter": "python",
   "pygments_lexer": "ipython3",
   "version": "3.6.5"
  }
 },
 "nbformat": 4,
 "nbformat_minor": 2
}
